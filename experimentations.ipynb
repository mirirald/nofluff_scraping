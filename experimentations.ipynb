{
 "cells": [
  {
   "cell_type": "code",
   "execution_count": 1,
   "metadata": {},
   "outputs": [],
   "source": [
    "import requests"
   ]
  },
  {
   "cell_type": "code",
   "execution_count": 2,
   "metadata": {},
   "outputs": [],
   "source": [
    "import json"
   ]
  },
  {
   "cell_type": "code",
   "execution_count": 3,
   "metadata": {},
   "outputs": [],
   "source": [
    "import pandas as pd"
   ]
  },
  {
   "cell_type": "code",
   "execution_count": 4,
   "metadata": {},
   "outputs": [],
   "source": [
    "from pandas.io.json import json_normalize"
   ]
  },
  {
   "cell_type": "code",
   "execution_count": 5,
   "metadata": {},
   "outputs": [],
   "source": [
    "import time"
   ]
  },
  {
   "cell_type": "code",
   "execution_count": 6,
   "metadata": {},
   "outputs": [],
   "source": [
    "import pymongo"
   ]
  },
  {
   "cell_type": "code",
   "execution_count": null,
   "metadata": {},
   "outputs": [],
   "source": []
  },
  {
   "cell_type": "code",
   "execution_count": 7,
   "metadata": {},
   "outputs": [],
   "source": [
    "url = 'https://nofluffjobs.com/api/search/posting?region=pl'\n",
    "response = requests.get(url)\n",
    "parsed = json.loads(response.text)"
   ]
  },
  {
   "cell_type": "code",
   "execution_count": 8,
   "metadata": {},
   "outputs": [
    {
     "data": {
      "text/plain": [
       "list"
      ]
     },
     "execution_count": 8,
     "metadata": {},
     "output_type": "execute_result"
    }
   ],
   "source": [
    "type(parsed['postings'])"
   ]
  },
  {
   "cell_type": "code",
   "execution_count": null,
   "metadata": {},
   "outputs": [],
   "source": []
  },
  {
   "cell_type": "code",
   "execution_count": 9,
   "metadata": {},
   "outputs": [
    {
     "name": "stdout",
     "output_type": "stream",
     "text": [
      "[]\n"
     ]
    }
   ],
   "source": [
    "list_jobs_krakow = []\n",
    "print(list_jobs_krakow)"
   ]
  },
  {
   "cell_type": "code",
   "execution_count": 10,
   "metadata": {},
   "outputs": [],
   "source": [
    "unique_ids = set()"
   ]
  },
  {
   "cell_type": "code",
   "execution_count": 11,
   "metadata": {},
   "outputs": [],
   "source": [
    "for item in parsed['postings']:\n",
    "    #print(item['id'] + ' - ' + item['url'])\n",
    "    unique_ids.add(item['id'])"
   ]
  },
  {
   "cell_type": "code",
   "execution_count": null,
   "metadata": {},
   "outputs": [],
   "source": [
    "for i, job_id in enumerate(unique_ids, 1):\n",
    "    res = requests.get('https://nofluffjobs.com/api/posting/{0}'.format(job_id))\n",
    "    list_jobs_krakow.append(json.loads(res.text))\n",
    "    if i%30 == 0:\n",
    "        print('{0} - {1}'.format(i, job_id))\n",
    "        time.sleep(10.4)"
   ]
  },
  {
   "cell_type": "code",
   "execution_count": 25,
   "metadata": {},
   "outputs": [
    {
     "name": "stdout",
     "output_type": "stream",
     "text": [
      "330 - MKAIABY8\n",
      "360 - QHPYE1HC\n",
      "390 - CJRXAC6R\n",
      "420 - ZQGISQSD\n",
      "450 - MCLQOAVI\n",
      "480 - CXCT4HVR\n",
      "510 - U2GAFDFG\n",
      "540 - UWVMOHUI\n",
      "570 - MVCROMHS\n",
      "600 - 1YGPRMRF\n",
      "630 - WMU71DRN\n",
      "660 - CBMGUBPC\n",
      "690 - 0JICJ1QL\n",
      "720 - EUA9AOUL\n",
      "750 - PGJ9PSQN\n",
      "780 - NLI6F7UV\n",
      "810 - FB4YMV6Z\n",
      "840 - HQ5MTH7S\n",
      "870 - 0XSNWWKY\n",
      "900 - DLS2MLIH\n",
      "930 - EH3RI3ZC\n",
      "960 - V62F3T4O\n",
      "990 - DBCCY7SB\n",
      "1020 - DPWC4AZJ\n",
      "1050 - 7V0R6EUJ\n",
      "1080 - 83RNWGXF\n",
      "1110 - OHLILIEL\n",
      "1140 - NZ1J8U3K\n"
     ]
    }
   ],
   "source": [
    "for i, job_id in enumerate(unique_ids, 1):\n",
    "    if i > 300:\n",
    "        res = requests.get('https://nofluffjobs.com/api/posting/{0}'.format(job_id))\n",
    "        list_jobs_krakow.append(json.loads(res.text))\n",
    "        if i%30 == 0:\n",
    "            print('{0} - {1}'.format(i, job_id))\n",
    "            time.sleep(10.4)"
   ]
  },
  {
   "cell_type": "code",
   "execution_count": 28,
   "metadata": {},
   "outputs": [
    {
     "data": {
      "text/plain": [
       "{'basics': {'category': 'backend',\n",
       "  'seniority': ['Senior', 'Expert'],\n",
       "  'technology': 'java'},\n",
       " 'benefits': {'benefits': ['Training budget',\n",
       "   'Flat structure',\n",
       "   'Small teams',\n",
       "   'International projects',\n",
       "   'In-house trainings',\n",
       "   'Team Events'],\n",
       "  'officePerks': ['Free coffee',\n",
       "   'Canteen',\n",
       "   'Bike parking',\n",
       "   'Shower',\n",
       "   'Free snacks',\n",
       "   'Free beverages',\n",
       "   'In-house trainings',\n",
       "   'Startup atmosphere',\n",
       "   'No dress code',\n",
       "   'Kitchen',\n",
       "   'Play room'],\n",
       "  'equipment': {'operatingSystems': {'lin': True, 'mac': False, 'win': False},\n",
       "   'computer': 'Workstation',\n",
       "   'monitors': '24\" - 25\" up to 3 or even more'}},\n",
       " 'company': {'additionalContactEmails': [],\n",
       "  'consentsInfo': {'termsAndConditions': True, 'marketingInfo': False},\n",
       "  'logo': '/upload/posting/RTB_House_20180425_155154.jpeg',\n",
       "  'name': 'RTB House',\n",
       "  'size': '500+'},\n",
       " 'consents': {'infoClause': \"1. Please be informed that the controller of your personal data is:\\n\\n(a) RTB House Services sp. z o.o. with its registered office in Warsaw (00-819), 61 Złota St., Office 101, entered into the register of entrepreneurs National Court Register held\\nby the District Court for the Capital City of Warsaw in Warsaw, 12 th Commercial Department of the National Court Register under KRS No.: 0000698508, NIP (Tax ID) No.: 527-282-32-15, (hereinafter: “we” or “RTB House”).\\n\\n2. You can contact us in the following manner: \\n\\n(1) by mail: ul. Złota 61/101, 00-819 Warsaw,\\n(2) by e-mail: recruitment@rtbhouse.com, \\n(3) by telephone: +48 22 188 12 71.\\n\\n3. We will process your personal data in order to carry out the recruitment process for the position you are applying for, in order to conduct future recruitment's (if you give additional\\nconsent for such purpose) and for the purpose of determining, investigating or defending against legal claims.\\n\\n4. Any personal data related to you we may have obtained so far (prior to contacting you) originate from publicly accessible sources such as LinkedIn or other professional networking\\nplatform services.\\n\\n5. The legal basis for the processing of your personal data is:\\n(1) the provision of law – to the extent that is specified in the provisions of labor laws, \\n(2) consent – within the scope of processing of personal data that is not covered by the provisions of the labor laws.\\n\\n6. You can easily withdraw your consent to the processing of your personal data at any time. To do so, send an email to our Data Protection Officer at: dpo@rtbhouse.com or call 22 188\\n12 71. Withdrawal of consent does not affect the legality of the processing carried out before its withdrawal.\\n\\n7. RTB House will store your personal data until the end of the recruitment process or until you withdraw your consent to process your personal data. If you consent to process your personal data for the purposes of future recruitment processes, RTB House will keep your data until you withdraw your consent however in any case for no longer than 24 months from receipt of such data.\\n\\n8. RTB House will transfer your personal data to data processors in case of using services related to recruitment of co-workers or providing IT systems for recruitment process – wherein these entities shall process your personal data on the basis of the data processing agreement with RTB House and solely in accordance with instructions of RTB House.\\n\\n9. You have the following rights related to the processing of personal data:\\n\\na. the right to withdraw consent(to the extent that your data is processed on the basis ofconsent),\\nb. the right to access your personal data,\\nc. the right to rectification of your personal data,\\nd. the right to erasure of your personal data,\\ne. the right to demand the restriction of the processing of your personal data,\\nf. the right to object to the processing of your data due to your particular situation - in cases where we process your data based on our legitimate interest,\\ng. the receive your personal data, which you have provided to us, in a structured, commonly used and machine-readable format and have the right to transmit those data to another controller without hindrance from the controller to which the personal data have been provided. However, we will do this only if such message is technically possible. You have the right to transfer personal data only in regard with the data which we process on the basis of an agreement with you or on the basis of your consent.\\n\\nTo exercise the above rights, contact our Data Protection Officer: \\n(1) by mail under following address: ul. Złota 61/101, 00-819 Warsaw, \\n(2) by e-mail: dpo@rtbhouse.com or \\n(3) by telephone: +48 22 188 12 71.\\n\\n10. You also have the right to lodge a complaint with the supervisory personal data protection authority, i.e. the President of the Office for Personal Data Protection in Poland.\",\n",
       "  'currentConsent': True,\n",
       "  'currentConsentLabel': 'Processing additional data in recruitment processes',\n",
       "  'currentConsentMsg': 'I hereby grant RTB House Services sp. o.o.(“RTB House”) consent to process my personal data relating to my job application and contained in my recruitment documents (recruitment form, CV, cover letter), obtained by RTB House through LinkedIn or other business-oriented services or submitted by myself during next stages of recruitment process (i.a. tests answers, solutions to assignments and results of reading comprehension tests) for the purpose of participating in the recruitment process conducted by RTB House.',\n",
       "  'futureConsent': True,\n",
       "  'futureConsentMsg': 'I hereby grant RTB House Services sp. o.o. (“RTB House”) consent to process my personal data relating to my job application and contained in my recruitment documents (recruitment form, CV, cover letter) obtained by RTB House through LinkedIn or other business-oriented services or collected during recruitment process (i.a. tests answers, solutions to assignments and results of reading comprehension tests) for the purpose of participating in future recruitment processes conducted by RTB House.',\n",
       "  'personalDataRequestLink': 'michal.garbowski@rtbhouse.com'},\n",
       " 'essentials': {'contract': {'start': 'ASAP', 'duration': {}},\n",
       "  'salary': {'types': {'b2b': {'period': 'Day', 'range': [800, 1400]}},\n",
       "   'currency': 'PLN',\n",
       "   'bonus': None}},\n",
       " 'id': 'FSHPVJEU',\n",
       " 'location': {'places': [{'country': {'code': 'POL', 'name': 'Poland'},\n",
       "    'city': 'Warsaw',\n",
       "    'street': 'Niepodległości 69',\n",
       "    'postalCode': '02-625',\n",
       "    'geoLocation': {'latitude': 52.1905615, 'longitude': 21.0158066}}],\n",
       "  'remote': 2,\n",
       "  'multicityCount': 5},\n",
       " 'methodology': [{'values': ['80% Coverage'], 'name': 'Integration tests'},\n",
       "  {'values': ['80% Coverage'], 'name': 'Unit tests'},\n",
       "  {'values': ['Scrumban mix'], 'name': 'Agile management'},\n",
       "  {'values': ['Trello'], 'name': 'Issue tracking tool'},\n",
       "  {'values': ['DokuWiki'], 'name': 'Knowledge repository'},\n",
       "  {'values': ['Gerrit'], 'name': 'Code reviews'},\n",
       "  {'values': ['checkstyle, pmd, pep8'], 'name': 'Static code analysis'},\n",
       "  {'values': ['GIT'], 'name': 'Version control system'},\n",
       "  {'values': ['Jenkins'], 'name': 'Build server'},\n",
       "  {'values': [], 'name': 'Commit on the first day'},\n",
       "  {'values': [], 'name': 'One command build possible'},\n",
       "  {'values': [], 'name': 'Up and running within 2h'}],\n",
       " 'requirements': {'musts': [{'value': 'Java', 'type': 'main'},\n",
       "   {'value': 'DevOps', 'type': 'main'},\n",
       "   {'value': 'Complex IT Systems', 'type': 'main'},\n",
       "   {'value': 'Strong Coding Skills', 'type': 'main'},\n",
       "   {'value': 'Distributed Systems', 'type': 'main'},\n",
       "   {'value': 'Scalability', 'type': 'main'},\n",
       "   {'value': 'Clean Code', 'type': 'other'}],\n",
       "  'nices': [{'value': 'Jenkins', 'type': 'main'},\n",
       "   {'value': 'Docker', 'type': 'main'},\n",
       "   {'value': 'Linux', 'type': 'main'},\n",
       "   {'value': 'Elasticsearch', 'type': 'main'},\n",
       "   {'value': 'Big Data', 'type': 'main'},\n",
       "   {'value': 'Apps profiling', 'type': 'main'},\n",
       "   {'value': 'Kafka', 'type': 'main'},\n",
       "   {'value': 'Hadoop', 'type': 'main'},\n",
       "   {'value': 'Python', 'type': 'main'},\n",
       "   {'value': 'Concurrent Programming', 'type': 'main'},\n",
       "   {'value': 'High Scalability', 'type': 'main'},\n",
       "   {'value': 'High Availability', 'type': 'main'},\n",
       "   {'value': 'Graphite', 'type': 'main'},\n",
       "   {'value': 'Polish', 'type': 'other'}]},\n",
       " 'specs': {'dailyTasks': [],\n",
       "  'details': {'partTime': 80,\n",
       "   'custom': [],\n",
       "   'flexibleHours': True,\n",
       "   'chooseTools': True},\n",
       "  'referral': {'amount': 1000, 'currency': 'EUR'},\n",
       "  'travelling': 'nothing',\n",
       "  'workProfile': {'type': 'custom',\n",
       "   'graph': {'documentation': 1,\n",
       "    'features': 70,\n",
       "    'maintenance': 25,\n",
       "    'meetings': 4,\n",
       "    'support': 0}}},\n",
       " 'title': 'Senior Big Data Engineer',\n",
       " 'details': {'description': '',\n",
       "  'quote': '',\n",
       "  'quoteAuthor': '',\n",
       "  'avatarPhoto': None,\n",
       "  'coverPhoto': None},\n",
       " 'posted': 1571385054196,\n",
       " 'status': 'PUBLISHED',\n",
       " 'postingUrl': 'senior-big-data-engineer-rtb-house-warsaw-fshpvjeu',\n",
       " 'regions': ['pl'],\n",
       " 'meta': {'videosInCompanyProfileVisible': True},\n",
       " 'likes': 0,\n",
       " 'companyUrl': '/company/rtb-house-fqxub8bu',\n",
       " 'seo': {'title': 'Senior Big Data Engineer @ RTB House',\n",
       "  'description': 'Senior Big Data Engineer @ RTB House Warsaw POL 800-1.4k (B2B) PLN / day',\n",
       "  'image': '/upload/facebook/RTB_House_20180425_155154.jpeg'}}"
      ]
     },
     "execution_count": 28,
     "metadata": {},
     "output_type": "execute_result"
    }
   ],
   "source": [
    "list_jobs_krakow[1142]"
   ]
  },
  {
   "cell_type": "code",
   "execution_count": null,
   "metadata": {},
   "outputs": [],
   "source": [
    "json_normalize(list_jobs_krakow[0])"
   ]
  },
  {
   "cell_type": "code",
   "execution_count": null,
   "metadata": {},
   "outputs": [],
   "source": []
  },
  {
   "cell_type": "code",
   "execution_count": 30,
   "metadata": {},
   "outputs": [],
   "source": [
    "from pymongo import MongoClient\n",
    "client = MongoClient()"
   ]
  },
  {
   "cell_type": "code",
   "execution_count": 31,
   "metadata": {},
   "outputs": [],
   "source": [
    "client = MongoClient('localhost', 27017)"
   ]
  },
  {
   "cell_type": "code",
   "execution_count": 32,
   "metadata": {},
   "outputs": [],
   "source": [
    "db = client.nofluff"
   ]
  },
  {
   "cell_type": "code",
   "execution_count": 33,
   "metadata": {},
   "outputs": [],
   "source": [
    "collection = db.jobs"
   ]
  },
  {
   "cell_type": "code",
   "execution_count": 34,
   "metadata": {},
   "outputs": [],
   "source": [
    "job_id = collection.insert_one(list_jobs_krakow[0]).inserted_id"
   ]
  },
  {
   "cell_type": "code",
   "execution_count": 35,
   "metadata": {},
   "outputs": [
    {
     "name": "stdout",
     "output_type": "stream",
     "text": [
      "5dacba7004872f0dbc765847\n"
     ]
    }
   ],
   "source": [
    "print(job_id)"
   ]
  },
  {
   "cell_type": "code",
   "execution_count": 36,
   "metadata": {},
   "outputs": [],
   "source": [
    "for job in list_jobs_krakow:\n",
    "    collection.insert_one(job)"
   ]
  },
  {
   "cell_type": "code",
   "execution_count": null,
   "metadata": {},
   "outputs": [],
   "source": []
  },
  {
   "cell_type": "code",
   "execution_count": null,
   "metadata": {},
   "outputs": [],
   "source": []
  }
 ],
 "metadata": {
  "kernelspec": {
   "display_name": "Python 3",
   "language": "python",
   "name": "python3"
  },
  "language_info": {
   "codemirror_mode": {
    "name": "ipython",
    "version": 3
   },
   "file_extension": ".py",
   "mimetype": "text/x-python",
   "name": "python",
   "nbconvert_exporter": "python",
   "pygments_lexer": "ipython3",
   "version": "3.7.3"
  }
 },
 "nbformat": 4,
 "nbformat_minor": 2
}
