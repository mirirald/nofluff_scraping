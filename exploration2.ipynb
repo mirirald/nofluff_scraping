{
 "cells": [
  {
   "cell_type": "code",
   "execution_count": 12,
   "metadata": {},
   "outputs": [],
   "source": [
    "import pymongo"
   ]
  },
  {
   "cell_type": "code",
   "execution_count": 13,
   "metadata": {},
   "outputs": [],
   "source": [
    "from scraping.mongodb_manager import * "
   ]
  },
  {
   "cell_type": "code",
   "execution_count": 14,
   "metadata": {},
   "outputs": [],
   "source": [
    "client = MongodbManager('localhost', 27017)"
   ]
  },
  {
   "cell_type": "code",
   "execution_count": 15,
   "metadata": {},
   "outputs": [],
   "source": [
    "coll = client.collection"
   ]
  },
  {
   "cell_type": "code",
   "execution_count": 16,
   "metadata": {},
   "outputs": [],
   "source": [
    "import pandas as pd\n",
    "from pandas.io.json import json_normalize"
   ]
  },
  {
   "cell_type": "code",
   "execution_count": 17,
   "metadata": {},
   "outputs": [],
   "source": [
    "import pprint"
   ]
  },
  {
   "cell_type": "code",
   "execution_count": 18,
   "metadata": {},
   "outputs": [
    {
     "name": "stdout",
     "output_type": "stream",
     "text": [
      "{   '_id': ObjectId('5db5aeb886fa7012f8a81a59'),\n",
      "    'basics': {   'category': 'frontend',\n",
      "                  'seniority': ['Senior', 'Mid'],\n",
      "                  'technology': 'react'},\n",
      "    'benefits': [   'Sport subscription',\n",
      "                    'Training budget',\n",
      "                    'Private healthcare',\n",
      "                    'Lunch card',\n",
      "                    'International projects',\n",
      "                    'flexible working hours',\n",
      "                    'Event subscription',\n",
      "                    'Free coffee',\n",
      "                    'Modern office'],\n",
      "    'company': {'name': 'Harvey Nash Technology', 'size': '100+'},\n",
      "    'dateAdded': '2019-10-28',\n",
      "    'dateArchived': None,\n",
      "    'id': 'AHLTAFOD',\n",
      "    'location': {'city': 'Warsaw', 'country': 'Poland', 'remote': 1},\n",
      "    'requirements': {   'musts': ['React', 'English', 'Communication skills'],\n",
      "                        'nices': [   'JavaScript',\n",
      "                                     'Angular',\n",
      "                                     'REST',\n",
      "                                     'TypeScript',\n",
      "                                     'node']},\n",
      "    'salary': {   'bonus': None,\n",
      "                  'currency': 'PLN',\n",
      "                  'types': {   'permanent': {   'paidHoliday': True,\n",
      "                                                'period': 'Month',\n",
      "                                                'range': [15000, 21000]}}},\n",
      "    'status': 'PUBLISHED'}\n"
     ]
    }
   ],
   "source": [
    "pp = pprint.PrettyPrinter(indent=4)\n",
    "pp.pprint(coll.find_one({}))"
   ]
  },
  {
   "cell_type": "code",
   "execution_count": 19,
   "metadata": {
    "scrolled": false
   },
   "outputs": [
    {
     "name": "stdout",
     "output_type": "stream",
     "text": [
      "['frontend', 'fullstack', 'other', 'businessAnalyst', 'testing', 'devops', 'backend', 'support', 'mobile', 'businessIntelligence', 'projectManager', 'ux', 'hr', 'trainee']\n"
     ]
    }
   ],
   "source": [
    "print(coll.find({}).distinct('basics.category'))"
   ]
  },
  {
   "cell_type": "code",
   "execution_count": 20,
   "metadata": {},
   "outputs": [
    {
     "name": "stdout",
     "output_type": "stream",
     "text": [
      "['Mid', 'Senior', 'Junior', 'Expert', 'Trainee']\n"
     ]
    }
   ],
   "source": [
    "print(coll.find({}).distinct('basics.seniority'))"
   ]
  },
  {
   "cell_type": "code",
   "execution_count": 21,
   "metadata": {},
   "outputs": [],
   "source": [
    "cursor = coll.aggregate(\n",
    "    [\n",
    "        {\"$group\": {\"_id\": \"$basics.seniority\", \"count\": {\"$sum\": 1}}}\n",
    "    ]\n",
    ")"
   ]
  },
  {
   "cell_type": "code",
   "execution_count": 22,
   "metadata": {},
   "outputs": [
    {
     "name": "stdout",
     "output_type": "stream",
     "text": [
      "{'_id': ['Trainee'], 'count': 3}\n"
     ]
    }
   ],
   "source": [
    "for item in cursor:\n",
    "    print(item)\n",
    "    break"
   ]
  },
  {
   "cell_type": "code",
   "execution_count": 23,
   "metadata": {},
   "outputs": [],
   "source": [
    "cursor = coll.aggregate(\n",
    "    [\n",
    "        {\"$group\": {\"_id\": \"$basics.seniority\", \"unique_ids\": {\"$addToSet\": \"$_id\"}, \"count\": {\"$sum\": 1}}}\n",
    "    ]\n",
    ")"
   ]
  },
  {
   "cell_type": "code",
   "execution_count": 24,
   "metadata": {},
   "outputs": [
    {
     "name": "stdout",
     "output_type": "stream",
     "text": [
      "{'_id': ['Trainee'], 'unique_ids': [ObjectId('5db5af1cdf4a97432f9c97ba'), ObjectId('5db5af1bdf4a97432f9c972b'), ObjectId('5db5af1bdf4a97432f9c9471')], 'count': 3}\n"
     ]
    }
   ],
   "source": [
    "for item in cursor:\n",
    "    print(item)\n",
    "    break"
   ]
  },
  {
   "cell_type": "code",
   "execution_count": 25,
   "metadata": {},
   "outputs": [],
   "source": [
    "import matplotlib.pyplot as plt"
   ]
  },
  {
   "cell_type": "markdown",
   "metadata": {},
   "source": [
    "# Salary range for permanant jobs"
   ]
  },
  {
   "cell_type": "code",
   "execution_count": 26,
   "metadata": {},
   "outputs": [
    {
     "name": "stdout",
     "output_type": "stream",
     "text": [
      "{   '_id': ObjectId('5db5aeb886fa7012f8a81a59'),\n",
      "    'basics': {   'category': 'frontend',\n",
      "                  'seniority': ['Senior', 'Mid'],\n",
      "                  'technology': 'react'},\n",
      "    'benefits': [   'Sport subscription',\n",
      "                    'Training budget',\n",
      "                    'Private healthcare',\n",
      "                    'Lunch card',\n",
      "                    'International projects',\n",
      "                    'flexible working hours',\n",
      "                    'Event subscription',\n",
      "                    'Free coffee',\n",
      "                    'Modern office'],\n",
      "    'company': {'name': 'Harvey Nash Technology', 'size': '100+'},\n",
      "    'dateAdded': '2019-10-28',\n",
      "    'dateArchived': None,\n",
      "    'id': 'AHLTAFOD',\n",
      "    'location': {'city': 'Warsaw', 'country': 'Poland', 'remote': 1},\n",
      "    'requirements': {   'musts': ['React', 'English', 'Communication skills'],\n",
      "                        'nices': [   'JavaScript',\n",
      "                                     'Angular',\n",
      "                                     'REST',\n",
      "                                     'TypeScript',\n",
      "                                     'node']},\n",
      "    'salary': {   'bonus': None,\n",
      "                  'currency': 'PLN',\n",
      "                  'types': {   'permanent': {   'paidHoliday': True,\n",
      "                                                'period': 'Month',\n",
      "                                                'range': [15000, 21000]}}},\n",
      "    'status': 'PUBLISHED'}\n"
     ]
    }
   ],
   "source": [
    "cursor = coll.find({\n",
    "    'salary.types.permanent.range': {\n",
    "        '$exists': True\n",
    "    }\n",
    "})\n",
    "\n",
    "pp.pprint(cursor[0])"
   ]
  },
  {
   "cell_type": "code",
   "execution_count": 27,
   "metadata": {},
   "outputs": [],
   "source": [
    "cursor = coll.aggregate(\n",
    "    [\n",
    "        {\"$match\": {'salary.types.permanent.range': {'$exists': True}}},\n",
    "        {\"$project\": {\"salary_range\": \"$salary.types.permanent.range\"}}\n",
    "    ]\n",
    ")"
   ]
  },
  {
   "cell_type": "code",
   "execution_count": 28,
   "metadata": {},
   "outputs": [
    {
     "name": "stdout",
     "output_type": "stream",
     "text": [
      "{'_id': ObjectId('5db5aeb886fa7012f8a81a59'), 'salary_range': [15000, 21000]}\n"
     ]
    }
   ],
   "source": [
    "for item in cursor:\n",
    "    print(item)\n",
    "    break"
   ]
  },
  {
   "cell_type": "code",
   "execution_count": null,
   "metadata": {},
   "outputs": [],
   "source": []
  }
 ],
 "metadata": {
  "kernelspec": {
   "display_name": "Python 3",
   "language": "python",
   "name": "python3"
  },
  "language_info": {
   "codemirror_mode": {
    "name": "ipython",
    "version": 3
   },
   "file_extension": ".py",
   "mimetype": "text/x-python",
   "name": "python",
   "nbconvert_exporter": "python",
   "pygments_lexer": "ipython3",
   "version": "3.7.3"
  }
 },
 "nbformat": 4,
 "nbformat_minor": 2
}
